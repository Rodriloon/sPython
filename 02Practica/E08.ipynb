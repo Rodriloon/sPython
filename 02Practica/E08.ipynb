{
 "cells": [
  {
   "cell_type": "code",
   "execution_count": null,
   "metadata": {},
   "outputs": [],
   "source": [
    "def is_anagram(word1, word2):\n",
    "\n",
    "    if len(word1) == len(word2):\n",
    "\n",
    "        for letter in word1.strip():\n",
    "\n",
    "            if letter not in word2.strip():\n",
    "                return False\n",
    "        return True\n",
    "    else:return False\n",
    "\n",
    "\n",
    "word1 = input(\"ingrese una palabra: \").strip()\n",
    "word2 = input(\"Ingrese otra palabra: \").strip()\n",
    "if is_anagram(word1, word2):\n",
    "    print(f\"{word1} y {word2} son anagramas.\")\n",
    "else:\n",
    "    print(\"No son anagramas.\")"
   ]
  }
 ],
 "metadata": {
  "language_info": {
   "name": "python"
  }
 },
 "nbformat": 4,
 "nbformat_minor": 2
}
