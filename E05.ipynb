{
 "cells": [
  {
   "cell_type": "code",
   "execution_count": null,
   "metadata": {},
   "outputs": [],
   "source": [
    "react_time = int(input(\"Ingrese el tiepmo de reaccion en ms: \"))\n",
    "\n",
    "categorias = {\n",
    "    \"Rapido\" : range(0, 200),\n",
    "    \"Normal\" : range(200, 501),\n",
    "    \"Lento\" : range(501, 1001)\n",
    "}\n",
    "\n",
    "for categoria, rango in categorias.items():\n",
    "    if react_time in rango:\n",
    "        print(f\"El tiempo de reaccion es {categoria}\")\n",
    "        break\n",
    "else:\n",
    "    print(\"Valor fuera de rango.\")"
   ]
  }
 ],
 "metadata": {
  "language_info": {
   "name": "python"
  }
 },
 "nbformat": 4,
 "nbformat_minor": 2
}
