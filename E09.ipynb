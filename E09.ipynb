{
 "cells": [
  {
   "cell_type": "code",
   "execution_count": null,
   "metadata": {},
   "outputs": [],
   "source": [
    "clients = [\n",
    "\" Ana López \", \"Pedro Gómez\", \"maria martínez\", \"Pedro Gómez \", \"\",\n",
    "\" Luis Rodríguez \", None, \"ana lópez\", \"JUAN PÉREZ\", \"MARTA SUÁREZ\",\n",
    "\"luis rodríguez\", \"maría martínez \", \" claudia torres\", \"CLAUDIA TORRES\",\n",
    "\" \", \"pedro gómez\", \"Juan Pérez\", None, \"Ricardo Fernández\", \"LAURA RAMOS\",\n",
    "\"carlos mendes\", \"RICARDO FERNÁNDEZ \", \" Laura ramos\", \"CARLOS MENDES\",\n",
    "\"alejandro gonzález\", \" ALEJANDRO GONZÁLEZ \", \"Patricia Vega\",\n",
    "\"patricia VEGA\", \"Andrés Ocampo\", \" andrés ocampo\", \"Monica Herrera\",\n",
    "\"MONICA HERRERA \", \"gabriela ruíz\", \"Gabriela Ruíz\", \"sandra morales\",\n",
    "\"SANDRA MORALES\", \"miguel ángel\", \"Miguel Ángel \", \" Damián Castillo\",\n",
    "\"Damián Castillo \", None, \"\", \" \"\n",
    "]\n",
    "\n",
    "#Creo una nueva lista de clientes sin espacios en blanco y sin None, capitalizo todos los nombres.\n",
    "newclients = [client.strip().title() for client in clients if client is not None and client.strip()]\n",
    "newclients2 = []\n",
    "\n",
    "#Elimino los repetidos.\n",
    "for client in newclients:\n",
    "    if client not in newclients2:\n",
    "        newclients2.append(client)\n",
    "\n",
    "#imprimo resultado\n",
    "for c in newclients2:\n",
    "    print(c)\n",
    "\n",
    "print()\n",
    "\n",
    "#Usando un \"set\"\n",
    "clientes = {client.strip().title() for client in clients if client is not None and client.strip()}\n",
    "for i in sorted(clientes):\n",
    "    print(i)"
   ]
  }
 ],
 "metadata": {
  "language_info": {
   "name": "python"
  }
 },
 "nbformat": 4,
 "nbformat_minor": 2
}
