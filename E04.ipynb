{
 "cells": [
  {
   "cell_type": "code",
   "execution_count": null,
   "metadata": {},
   "outputs": [],
   "source": [
    "username = input(\"Ingrese nombre de usuario (Debe contener mayuscula, minuscula, numero y sin caracteres esp): \")\n",
    "\n",
    "valid = False\n",
    "if len(username) >= 5:\n",
    "    if any(char.isdigit() for char in username):\n",
    "        if any(char.isupper() for char in username):\n",
    "            if username.isalnum():\n",
    "                print(f\"Nombre de usuario {username} valido.\")\n",
    "                valid =True\n",
    "if valid == False:\n",
    "    print(f\"Nombre de usuario {username} invalido.\")"
   ]
  }
 ],
 "metadata": {
  "language_info": {
   "name": "python"
  }
 },
 "nbformat": 4,
 "nbformat_minor": 2
}
