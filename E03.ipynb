{
 "cells": [
  {
   "cell_type": "code",
   "execution_count": 5,
   "metadata": {},
   "outputs": [
    {
     "name": "stdout",
     "output_type": "stream",
     "text": [
      "Respeta a los demás. No se permiten insultos ni lenguaje ofensivo.\n",
      "\n",
      "\n",
      "Evita el spam. No publiques enlaces sospechosos o repetitivos.\n",
      "\n",
      "\n",
      "No compartas información personal.\n",
      "\n",
      "\n"
     ]
    }
   ],
   "source": [
    "rules = \"\"\"Respeta a los demás. No se permiten insultos ni lenguaje ofensivo.\n",
    "Evita el spam. No publiques enlaces sospechosos o repetitivos.\n",
    "No compartas información personal.\n",
    "Usa los canales adecuados para cada tema.\n",
    "Sigue las instrucciones de los moderadores.\"\"\"\n",
    "\n",
    "#Creo una lista con todas las lineas\n",
    "lines = rules.splitlines()\n",
    "\n",
    "#ingreso la palabra por teclado\n",
    "keyword = input(\"Ingrese una palabra clave: \")\n",
    "\n",
    "#tomo la linea de cada elemento de lines tal que la keyword se encuentre en la linea\n",
    "# la funcion lower() en ambos argumentos lo hace case insensitive\n",
    "res = [line for line in lines if keyword.lower() in line.lower()]\n",
    "\n",
    "for i in res:\n",
    "    print(i)\n",
    "    print(\"\\n\")"
   ]
  }
 ],
 "metadata": {
  "kernelspec": {
   "display_name": "Python 3",
   "language": "python",
   "name": "python3"
  },
  "language_info": {
   "codemirror_mode": {
    "name": "ipython",
    "version": 3
   },
   "file_extension": ".py",
   "mimetype": "text/x-python",
   "name": "python",
   "nbconvert_exporter": "python",
   "pygments_lexer": "ipython3",
   "version": "3.12.9"
  }
 },
 "nbformat": 4,
 "nbformat_minor": 2
}
