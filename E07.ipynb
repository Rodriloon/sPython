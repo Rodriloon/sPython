{
 "cells": [
  {
   "cell_type": "code",
   "execution_count": null,
   "metadata": {},
   "outputs": [],
   "source": [
    "import random;\n",
    "import string;\n",
    "\n",
    "def leerusuario():\n",
    "\n",
    "    while True:\n",
    "        user = input(\"Ingrese nombre de usuario: \").strip()\n",
    "        date = input(\"Ingrese la fecha de hoy (AAAA/MM/DD)\").strip()\n",
    "        if len(user) <= 15:\n",
    "            break\n",
    "        else:\n",
    "            print(\"El usuario no puede exceder los 15 caracteres.\")\n",
    "    return user, date\n",
    "\n",
    "\n",
    "#Esto genera cadenas aleatorias (?)\n",
    "def createcode(user, date):\n",
    "    caracteres = string.ascii_letters + string.digits\n",
    "\n",
    "    code = (f\"{user.upper()}-{date.strip(\"/\")}-\")\n",
    "    while len(code) < 30:\n",
    "        code += random.choice(caracteres).upper()\n",
    "    return code\n",
    "\n",
    "\n",
    "user, date = leerusuario()\n",
    "code = createcode(user, date)\n",
    "print(f\"Codigo de descuento: {code}\")"
   ]
  }
 ],
 "metadata": {
  "language_info": {
   "name": "python"
  }
 },
 "nbformat": 4,
 "nbformat_minor": 2
}
