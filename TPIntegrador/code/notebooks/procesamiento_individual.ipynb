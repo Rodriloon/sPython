{
 "cells": [
  {
   "cell_type": "markdown",
   "id": "dffb5eb6",
   "metadata": {},
   "source": [
    "Primer paso: \"Las importaciones necesarias\"  \n",
    "\n",
    "- sys: se utiliza para modificar el sys.path, permitiendo que Python encuentre módulos personalizados que están fuera del directorio actual del notebook.\n",
    "\n",
    "- csv: módulo estándar de Python que permite leer y escribir archivos CSV.\n",
    "\n",
    "- Path de pathlib: para trabajar genericamente con rutas de archivos. Esto es importante porque este proyecto requiere rutas configuradas a través de variables definidas en src/util/constantes.py, para que cumpla con una estructura flexible que se pueda ejecutar en cualquier maquina de manera consistente sin necesidad de escribir rutas absolutas ni relativas manualmente. \n",
    "\n",
    "- Se importan dos rutas definidas en constantes.py\n",
    "\n",
    "- Se importa la función fusionar_csv definida en fusionador.py"
   ]
  },
  {
   "cell_type": "code",
   "execution_count": null,
   "id": "75d8a02f",
   "metadata": {},
   "outputs": [],
   "source": [
    "import sys\n",
    "import csv\n",
    "from pathlib import Path\n",
    "\n",
    "sys.path.append(\"..\") # Esto es necesario porque el archivo constantes.py están en src/util/, que está fuera del directorio notebooks/.\n",
    "from src.util.constantes import FILES_PATH, FUSION_PATH\n",
    "from src.util.fusionador import fusionar_csv\n"
   ]
  },
  {
   "cell_type": "markdown",
   "id": "43ea53cf",
   "metadata": {},
   "source": [
    "Fusión de los archivos de individuos en un solo archivo \n",
    "\n",
    "En esta sección se invoca la función fusionar_csv definida en src/util/fusionador.py para buscar y unir todos los archivos usu_individual_* encontrados en las subcarpetas de files_eph/. El archivo resultante se guarda en la carpeta fusion_eph/ generando el dataset unificado de individuos."
   ]
  },
  {
   "cell_type": "code",
   "execution_count": null,
   "id": "029ac9de",
   "metadata": {},
   "outputs": [],
   "source": [
    "archivo_salida_indiv = FUSION_PATH / \"individuos_fusionado.csv\"\n",
    "\n",
    "# Ejecuta la fusión de todos los archivos 'usu_individual_*'\n",
    "fusionar_csv(\"usu_individual_\", FILES_PATH, archivo_salida_indiv)"
   ]
  },
  {
   "cell_type": "markdown",
   "id": "fd3127d6",
   "metadata": {},
   "source": [
    "Fusión de los archivos de individuos en un solo archivo\n",
    "\n",
    "En esta sección se invoca la función fusionar_csv definida en src/util/fusionador.py para buscar y unir todos los archivos usu_individual* encontrados en las subcarpetas de files_eph/. El archivo resultante se guarda en la carpeta fusion_eph/ generando el dataset unificado de individuos."
   ]
  },
  {
   "cell_type": "code",
   "execution_count": null,
   "id": "9bc7363a",
   "metadata": {},
   "outputs": [],
   "source": [
    "# Carga de archivo fusionado \n",
    "with archivo_salida_indiv.open(encoding=\"utf-8\") as f:\n",
    "    lector = csv.DictReader(f, delimiter=\";\")\n",
    "    datos_indiv = list(lector)"
   ]
  },
  {
   "cell_type": "markdown",
   "id": "11c49944",
   "metadata": {},
   "source": [
    "Se traducen los valores CH04 numéricos a \"Masculino\" y \"Femenino\". El resultado se almacena en una nueva columna llamada CH04_str.  "
   ]
  },
  {
   "cell_type": "code",
   "execution_count": null,
   "id": "0857037a",
   "metadata": {},
   "outputs": [],
   "source": [
    "from src.util.modulos_seccion_a import punto3\n",
    "\n",
    "punto3(datos_indiv)"
   ]
  },
  {
   "cell_type": "markdown",
   "id": "aefc9b35",
   "metadata": {},
   "source": [
    "Se traducen los valores NIVEL_ED numéricos a descripciones en formato texto. \n",
    "El resultado se debe almacenar en una nueva columna llamada NIVEL_ED_str. La \n",
    "transformación debe seguir las siguientes reglas: \n",
    "1: \"Primario incompleto\". \n",
    "2: \"Primario completo\". \n",
    "3 \"Secundario incompleto\". \n",
    "4: \"Secundario completo\". \n",
    "5 a 6: \"Superior o universitario\". \n",
    "7 o 9: “Sin informacion”. "
   ]
  },
  {
   "cell_type": "code",
   "execution_count": null,
   "id": "f859dad7",
   "metadata": {},
   "outputs": [],
   "source": [
    "from src.util.modulos_seccion_a import punto4\n",
    "\n",
    "punto4(datos_indiv)"
   ]
  },
  {
   "cell_type": "markdown",
   "id": "03edd643",
   "metadata": {},
   "source": [
    "Este módulo procesa los datos individuales para agregar dos columnas importantes: CONDICION_LABORAL y UNIVERSITARIO. La columna CONDICION_LABORAL clasifica el estado laboral de cada individuo basado en su ESTADO y CAT_OCUP. Mientras tanto, la columna UNIVERSITARIO determina si un individuo ha completado estudios universitarios superiores, utilizando la edad y el nivel educativo proporcionados en los datos de entrada."
   ]
  },
  {
   "cell_type": "code",
   "execution_count": null,
   "id": "e5800ef5",
   "metadata": {},
   "outputs": [],
   "source": [
    "from src.util.modulos_seccion_a import punto5_6\n",
    "\n",
    "punto5_6(datos_indiv)"
   ]
  },
  {
   "cell_type": "markdown",
   "id": "371c058e",
   "metadata": {},
   "source": [
    "Para que se guarden los cambios hechos, \"individuos_fusionado_actualizado.csv\" este archivo va a mostrar las nuevas columnas en el Excel."
   ]
  },
  {
   "cell_type": "code",
   "execution_count": null,
   "id": "c58bfb2e",
   "metadata": {},
   "outputs": [],
   "source": [
    "\n",
    "from src.util.modulos_seccion_a import actualizar_archivo\n",
    "\n",
    "ruta = FUSION_PATH / \"individuos_fusionado_actualizado.csv\"\n",
    "\n",
    "actualizar_archivo(datos_indiv, ruta)"
   ]
  },
  {
   "cell_type": "markdown",
   "id": "c33856b5",
   "metadata": {},
   "source": [
    "Importo la funcion calcular_porcentaje_lectura_escritura que calculo e informo el porcentaje de personas mayores a 2 años capaces e incapaces de leer y escribir."
   ]
  },
  {
   "cell_type": "code",
   "execution_count": null,
   "id": "45508fd0",
   "metadata": {},
   "outputs": [],
   "source": [
    "from src.util.modulos_seccion_b import calcular_porcentaje_lectura_escritura\n",
    "archivo_actualizado_individuos = FUSION_PATH / \"individuos_fusionado_actualizado.csv\"\n",
    "# Calcular y mostrar resultados\n",
    "resultados_por_anio = calcular_porcentaje_lectura_escritura(datos_indiv)\n",
    "print(\"Porcentaje de personas mayores de 2 años que pueden y no pueden leer y escribir\")\n",
    "for anio, porcentajes in resultados_por_anio.items():\n",
    "    print(f\"Año {anio}:\")\n",
    "    print(f\"  Pueden leer y escribir: {porcentajes['porcentaje_pueden_leer_escribir']:.2f}%\")\n",
    "    print(f\"  No pueden leer ni escribir: {porcentajes['porcentaje_no_pueden_leer_escribir']:.2f}%\")"
   ]
  },
  {
   "cell_type": "code",
   "execution_count": null,
   "id": "cc5927d7",
   "metadata": {},
   "outputs": [],
   "source": [
    "from src.util.modulos_seccion_b import total_universitarios\n",
    "from src.util.modulos_seccion_b import tabla_nivel_estudios\n"
   ]
  },
  {
   "cell_type": "markdown",
   "id": "07d22196",
   "metadata": {},
   "source": [
    "A partir del archivo individuos_fusionado_actualizado.csv, informo para cada aglomerado el porcentaje de personas que hayan cursado al menos en nivel universitario o superior."
   ]
  },
  {
   "cell_type": "code",
   "execution_count": null,
   "id": "78b43e70",
   "metadata": {},
   "outputs": [],
   "source": [
    "total_universitarios(ruta)"
   ]
  },
  {
   "cell_type": "markdown",
   "id": "a53d347a",
   "metadata": {},
   "source": [
    "Retorna una tabla que contenga la cantidad de personas mayores de edad según su nivel de estudios alcanzados.\n"
   ]
  },
  {
   "cell_type": "code",
   "execution_count": null,
   "id": "aa3b7ff3",
   "metadata": {},
   "outputs": [],
   "source": [
    "tabla_nivel_estudios(ruta)"
   ]
  },
  {
   "cell_type": "markdown",
   "id": "04428591",
   "metadata": {},
   "source": [
    "En esta sección se calcula el porcentaje de personas no nacidas en Argentina que hayan cursado un nivel universitario o superior, para un año y trimestre específicos seleccionados por el usuario. Se utiliza la función `porcentaje_extranjeros_universitarios` definida en `src/util/modulos.py`. Esta función toma como entrada el dataset fusionado de individuos actualizado (`individuos_fusionado_actualizado.csv`) y realiza el cálculo considerando la columna `PONDERA` para ponderar correctamente los datos.\""
   ]
  },
  {
   "cell_type": "code",
   "execution_count": null,
   "id": "2b79eab4",
   "metadata": {},
   "outputs": [],
   "source": [
    "from src.util.modulos_seccion_b import porcentaje_extranjeros_universitarios\n",
    "\n",
    "año_consulta = int(input(\"Ingrese el año a consultar (entre 2020 y 2024): \"))\n",
    "if año_consulta < 2020 or año_consulta > 2024:\n",
    "    print(\"Año no válido. Debe estar entre 2016 y 2024.\")\n",
    "else:\n",
    "    trimestre_consulta = int(input(\"Ingrese el trimestre a consultar (1, 2, 3 o 4): \"))\n",
    "    if trimestre_consulta < 1 or trimestre_consulta > 4:\n",
    "        print(\" Trimestre no válido. Debe ser 1, 2, 3 o 4.\")\n",
    "    else:\n",
    "        resultado = porcentaje_extranjeros_universitarios(datos_indiv, año_consulta, trimestre_consulta)\n",
    "\n",
    "        print(f\"\\n Porcentaje de extranjeros universitarios en {año_consulta}T{trimestre_consulta}: {resultado}%\")"
   ]
  },
  {
   "cell_type": "markdown",
   "id": "6418236c",
   "metadata": {},
   "source": [
    "Se determina el año y trimestre con menor desocupación utilizando la función menor_desocupacion, que identifica a los desocupados a partir de la columna CONDICION_LABORAL y ajusta los resultados con la columna PONDERA."
   ]
  },
  {
   "cell_type": "code",
   "execution_count": null,
   "id": "255e606a",
   "metadata": {},
   "outputs": [],
   "source": [
    "from src.util.modulos_seccion_b import menor_desocupacion\n",
    "\n",
    "# Calcular el año y trimestre con menor desocupación\n",
    "resultado = menor_desocupacion(datos_indiv)\n",
    "\n",
    "# Informar el resultado\n",
    "if resultado != (0, 0):\n",
    "    print(f\"El año y trimestre con menor desocupación es: Año {resultado[0]}, Trimestre {resultado[1]}\")\n",
    "else:\n",
    "    print(\"No se encontraron datos válidos para calcular el período con menor desocupación.\")"
   ]
  },
  {
   "cell_type": "markdown",
   "id": "3f0189f0",
   "metadata": {},
   "source": [
    "En esta sección se solicita al usuario que ingrese el código de dos aglomerados, y se imprime el porcentaje de personas mayores que no completaron el secundario. Se utiliza la función tabla_año_trimestre_aglomerado, definida en src/util/modulos. Esta función recibe como entrada el dataset y los aglomerados introducidos por el usuario, y realiza filtros para calcular los porcentajes."
   ]
  },
  {
   "cell_type": "code",
   "execution_count": null,
   "id": "7f2ec631",
   "metadata": {},
   "outputs": [],
   "source": [
    "from src.util.modulos_seccion_b import tabla_año_trimestre_aglomerado\n",
    "#Solicito al Usuario que ingrese los codigos de los aglomerados\n",
    "aglo1= input(\"Ingrese el codigo del primer  aglomerado\")\n",
    "aglo2= input(\"Ingrese el codigo del segundo aglomerado\")\n",
    "#Llamo a la funcion para imprimir la tabla\n",
    "tabla_año_trimestre_aglomerado(datos_indiv,aglo1,aglo2)"
   ]
  },
  {
   "cell_type": "code",
   "execution_count": null,
   "id": "41449782",
   "metadata": {},
   "outputs": [],
   "source": [
    "from src.util.constantes import FUSION_PATH\n",
    "archivo_salida_hogar = FUSION_PATH / \"hogares_fusionado.csv\"\n",
    "with archivo_salida_hogar.open(encoding=\"utf-8\") as f:\n",
    "    lector = csv.DictReader(f, delimiter=\";\")\n",
    "    datos_hogar = list(lector)"
   ]
  },
  {
   "cell_type": "markdown",
   "id": "e52fc95f",
   "metadata": {},
   "source": [
    "En esta sección se calcula, para cada aglomerado, el porcentaje de jubilados que viven en una vivienda con condiciones habitacionales insuficientes. Se invoca la función calcular_porcentaje_jubilados_habitabilidad, que se encuentra en src/util/modulos.py. Esta función recibe como entrada los datasets de hogares e individuos y devuelve un diccionario cuya clave es el nombre del aglomerado y cuyo valor es el porcentaje correspondiente."
   ]
  },
  {
   "cell_type": "code",
   "execution_count": null,
   "id": "fea49688",
   "metadata": {},
   "outputs": [],
   "source": [
    "from src.util.modulos_seccion_b import calcular_porcentaje_jubilados_habitalidad\n",
    "\n",
    "datos=calcular_porcentaje_jubilados_habitalidad(datos_hogar,datos_indiv)\n"
   ]
  },
  {
   "cell_type": "markdown",
   "id": "ef9172e0",
   "metadata": {},
   "source": [
    "En esta sección se solicita al usuario que ingrese un año para imprimir la cantidad de personas con estudios universitarios o superiores que viven en hogares con condiciones habitacionales insuficientes. Se invoca la función cant_uni_habitabilidad, que se encuentra en src/util/modulos. Esta función recibe como entrada el dataset de hogares, el de individuos y el año ingresado por el usuario."
   ]
  },
  {
   "cell_type": "code",
   "execution_count": null,
   "id": "328b441e",
   "metadata": {},
   "outputs": [],
   "source": [
    "from src.util.modulos_seccion_b import cant_uni_habitalidad\n",
    "\n",
    "año=input('Introduzca El Año Para Buscar la cantidad de universitarios o educacion mayor en condiciones insuficientes de vivienda ')#Intruducir 2023 o 2024 porque son los años en el dataset que tienen 4to trimestre\n",
    "\n",
    "cant_uni_habitalidad(datos_hogar,datos_indiv,año)"
   ]
  }
 ],
 "metadata": {
  "kernelspec": {
   "display_name": "Python 3",
   "language": "python",
   "name": "python3"
  },
  "language_info": {
   "codemirror_mode": {
    "name": "ipython",
    "version": 3
   },
   "file_extension": ".py",
   "mimetype": "text/x-python",
   "name": "python",
   "nbconvert_exporter": "python",
   "pygments_lexer": "ipython3",
   "version": "3.12.4"
  }
 },
 "nbformat": 4,
 "nbformat_minor": 5
}
