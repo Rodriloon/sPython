{
 "cells": [
  {
   "cell_type": "markdown",
   "id": "21808ac9",
   "metadata": {},
   "source": [
    "Primer paso: \"Las importaciones necesarias\"  \n",
    "\n",
    "- sys: se utiliza para modificar el sys.path, permitiendo que Python encuentre módulos personalizados que están fuera del directorio actual del notebook.\n",
    "\n",
    "- csv: módulo estándar de Python que permite leer y escribir archivos CSV.\n",
    "\n",
    "- Path de pathlib: para trabajar genericamente con rutas de archivos. Esto es importante porque este proyecto requiere rutas configuradas a través de variables definidas en src/util/constantes.py, para que cumpla con una estructura flexible que se pueda ejecutar en cualquier maquina de manera consistente sin necesidad de escribir rutas absolutas ni relativas manualmente. \n",
    "\n",
    "- Se importan dos rutas definidas en constantes.py\n",
    "\n",
    "- Se importa la función fusionar_csv definida en fusionador.py"
   ]
  },
  {
   "cell_type": "code",
   "execution_count": 1,
   "id": "af72f6d1",
   "metadata": {},
   "outputs": [],
   "source": [
    "import sys\n",
    "import csv\n",
    "from pathlib import Path\n",
    "\n",
    "sys.path.append(\"..\") # Esto es necesario porque el archivo constantes.py están en src/util/, que está fuera del directorio notebooks/.\n",
    "from src.util.constantes import FILES_PATH, FUSION_PATH\n",
    "from src.util.fusionador import fusionar_csv"
   ]
  },
  {
   "cell_type": "markdown",
   "id": "83e41f85",
   "metadata": {},
   "source": [
    "Fusión de los archivos de hogares en un solo archivo\n",
    "\n",
    "En esta sección se invoca la función fusionar_csv definida en src/util/fusionador.py para buscar y unir todos los archivos usu_hogar_* encontrados en las subcarpetas de files_eph/. El archivo resultante se guarda en la carpeta fusion_eph/ generando el dataset unificado de hogares."
   ]
  },
  {
   "cell_type": "code",
   "execution_count": 2,
   "id": "9ef984e6",
   "metadata": {},
   "outputs": [
    {
     "name": "stdout",
     "output_type": "stream",
     "text": [
      "fusion de archivos generado: hogares_fusionado.csv\n"
     ]
    }
   ],
   "source": [
    "archivo_salida_hogar = FUSION_PATH / \"hogares_fusionado.csv\"\n",
    "\n",
    "# Ejecuta la fusión de todos los archivos 'usu_hogar_*'\n",
    "fusionar_csv(\"usu_hogar_\", FILES_PATH, archivo_salida_hogar)"
   ]
  },
  {
   "cell_type": "markdown",
   "id": "c0a58d17",
   "metadata": {},
   "source": [
    "Carga de archivo fusionado, guardamos los datos en la variable datos_hogar que usamos para todo el procesamiento que sigue."
   ]
  },
  {
   "cell_type": "code",
   "execution_count": 3,
   "id": "64908e55",
   "metadata": {},
   "outputs": [],
   "source": [
    "with archivo_salida_hogar.open(encoding=\"utf-8\") as f:\n",
    "    lector = csv.DictReader(f, delimiter=\";\")\n",
    "    datos_hogar = list(lector)"
   ]
  },
  {
   "cell_type": "markdown",
   "id": "d3fd5067",
   "metadata": {},
   "source": [
    "Este módulo procesa los datos de los hogares agregando dos nuevas columnas: TIPO_HOGAR y DENSIDAD_HOGAR. La columna TIPO_HOGAR clasifica a cada hogar según la cantidad de personas que lo componen, distinguiendo entre hogares unipersonales, nucleares y extendidos. Por otro lado, DENSIDAD_HOGAR evalúa el nivel de hacinamiento calculando la relación entre la cantidad de personas y el número de habitaciones destinadas al descanso, categorizando el resultado en niveles de baja, media o alta densidad."
   ]
  },
  {
   "cell_type": "code",
   "execution_count": 4,
   "id": "9321b295",
   "metadata": {},
   "outputs": [],
   "source": [
    "from src.util.modulos_seccion_a import punto7_9\n",
    "\n",
    "punto7_9(datos_hogar)"
   ]
  },
  {
   "cell_type": "markdown",
   "id": "36754ccf",
   "metadata": {},
   "source": [
    "Se generan una nueva columna llamada MATERIAL_TECHUMBRE que indica el tipo de hogar basado en el campo V4: \n",
    "- 5 a 7: \"Material precario\". \n",
    "- 1 a 4: \"Material durable\". \n",
    "- 9: “No aplica”"
   ]
  },
  {
   "cell_type": "code",
   "execution_count": 5,
   "id": "4637502e",
   "metadata": {},
   "outputs": [],
   "source": [
    "from src.util.modulos_seccion_a import punto8\n",
    "\n",
    "punto8(datos_hogar)"
   ]
  },
  {
   "cell_type": "markdown",
   "id": "66c45698",
   "metadata": {},
   "source": [
    "Se debe generar una nueva columna llamada CONDICION_DE_HABITABILIDAD, la misma califica a las viviendas y puede tener el valor de: insuficiente, regular, saludables y buena. \n",
    "Las reglas que definen la clasificación de las viviendas fueron definidas para que sean estas: \n",
    "- Reglas definidas: \n",
    "1) Para insuficiente: \n",
    "* II4_1 (cuarto de cocina) opción NO\n",
    "* IV6: (tiene agua) opción fuera del terreno \n",
    "* II9: (baño, tenencia y uso) 03 o 04 no tiene baño \n",
    "* IV3_ : (piso) opción 3, ladrillo suelto/tierra\n",
    "* MATERIAL_TECHUMBRE: \"Material precario\". \n",
    "\n",
    "2) Para regular:\n",
    "* II4_1 (cuarto de cocina) opción SI\n",
    "* IV6: (tiene agua) opción fuera del terreno \n",
    "* II9: (baño, tenencia y uso) opción 02 \n",
    "* IV3: (piso) opción 2, cemento/ladrillo fijo\n",
    "* MATERIAL_TECHUMBRE: \"Material precario\".  \n",
    "\n",
    "3) Para saludables: \n",
    "* II4_1 (cuarto de cocina) opción SI\n",
    "* IV6: (tiene agua) opción fuera del terreno pero dentro del terreno\n",
    "* IV8: (tiene baño) opción si opción uso exclusivo del hogar \n",
    "* MATERIAL_TECHUMBRE: \"Material durable\". \n",
    "* IV3: (piso) opción 2, cemento/ladrillo fijo, o mosaico / baldosa / madera /cerámica / alfombra. \n",
    "\n",
    "4) Para buena: \n",
    "* II4_1 (cuarto de cocina) opción SI \n",
    "* IV6: (tiene agua) 1. por cañería dentro de la vivienda\n",
    "* IV8: (tiene baño) opción si opción uso exclusivo del hogar \n",
    "* MATERIAL_TECHUMBRE: \"Material durable\". \n",
    "* IV3: (piso) opción 2, cemento/ladrillo fijo, o opción 3 mosaico / baldosa / madera /cerámica / alfombra."
   ]
  },
  {
   "cell_type": "code",
   "execution_count": 6,
   "id": "87e50999",
   "metadata": {},
   "outputs": [],
   "source": [
    "from src.util.modulos_seccion_a import punto10\n",
    "\n",
    "punto10(datos_hogar)"
   ]
  },
  {
   "cell_type": "markdown",
   "id": "845f22ec",
   "metadata": {},
   "source": [
    "Para que se guarden los cambios hechos. En el archivo \"hogares_fusionado_actualizado.csv\" va a mostrar las nuevas columnas en el Excel."
   ]
  },
  {
   "cell_type": "code",
   "execution_count": 7,
   "id": "acac6e14",
   "metadata": {},
   "outputs": [],
   "source": [
    "from src.util.modulos_seccion_a import actualizar_archivo\n",
    "\n",
    "ruta = FUSION_PATH / \"hogares_fusionado_actualizado.csv\"\n",
    "\n",
    "actualizar_archivo(datos_hogar, ruta)"
   ]
  },
  {
   "cell_type": "code",
   "execution_count": 8,
   "id": "0509f9c4",
   "metadata": {},
   "outputs": [],
   "source": [
    "from src.util.modulos_seccion_b import aglomerado_mas_viviendas\n",
    "from src.util.modulos_seccion_b import porcentaje_inquilinos"
   ]
  },
  {
   "cell_type": "markdown",
   "id": "cbaa702f",
   "metadata": {},
   "source": [
    "A partir de hogares_fusionado_actualizado.csv, informa:"
   ]
  },
  {
   "cell_type": "markdown",
   "id": "1a7dfc62",
   "metadata": {},
   "source": [
    "El aglomerado con mayor cantidad de viviendas con más de dos ocupantes y sin baño. Informa también la cantidad de ellas."
   ]
  },
  {
   "cell_type": "code",
   "execution_count": 9,
   "id": "aa6e9131",
   "metadata": {},
   "outputs": [
    {
     "name": "stdout",
     "output_type": "stream",
     "text": [
      "Aglomerado con más viviendas sin baño y con más de 2 ocupantes: Partidos del GBA\n",
      "Cantidad de viviendas: 0\n"
     ]
    }
   ],
   "source": [
    "archivo_actualizado_hogar = FUSION_PATH / \"hogares_fusionado_actualizado.csv\"\n",
    "aglomerado_mas_viviendas(archivo_actualizado_hogar)"
   ]
  },
  {
   "cell_type": "markdown",
   "id": "63c5ca5f",
   "metadata": {},
   "source": [
    "Ordena e informa las regiones según el porcentaje de viviendas ocupadas por inquilinos."
   ]
  },
  {
   "cell_type": "code",
   "execution_count": 10,
   "id": "ad1dfc1b",
   "metadata": {},
   "outputs": [
    {
     "name": "stdout",
     "output_type": "stream",
     "text": [
      "Regiones ordenadas por porcentaje de viviendas ocupadas por inquilinos de cada Region.\n",
      "Patagonia: 27.39% de inquilinos.\n",
      "Pampeana: 25.07% de inquilinos.\n",
      "Cuyo: 23.56% de inquilinos.\n",
      "Gran Buenos Aires: 20.53% de inquilinos.\n",
      "Noreste: 17.57% de inquilinos.\n",
      "Noroeste: 14.73% de inquilinos.\n"
     ]
    }
   ],
   "source": [
    "porcentaje_inquilinos(archivo_actualizado_hogar)"
   ]
  },
  {
   "cell_type": "markdown",
   "id": "9cf7dfab",
   "metadata": {},
   "source": [
    "Se calcula el ranking de los 5 aglomerados con mayor porcentaje de hogares con dos o más personas que completaron estudios universitarios, usando la función ranking_aglomerados_hogares, que pondera los datos con la columna PONDERA.\n"
   ]
  },
  {
   "cell_type": "code",
   "execution_count": 11,
   "id": "965ce6a9",
   "metadata": {},
   "outputs": [],
   "source": [
    "archivo_indiv = FUSION_PATH / \"individuos_fusionado_actualizado.csv\"\n",
    "\n",
    "with archivo_indiv.open(encoding=\"utf-8\") as f:\n",
    "    lector_indiv = csv.DictReader(f, delimiter=\";\")\n",
    "    datos_indiv_act = list(lector_indiv)\n",
    "\n",
    "archivo_actualizado_hogar = FUSION_PATH / \"hogares_fusionado_actualizado.csv\"\n",
    "\n",
    "with archivo_actualizado_hogar.open(encoding=\"utf-8\") as f:\n",
    "    lector_hog = csv.DictReader(f, delimiter=\";\")\n",
    "    datos_hogar_act = list(lector_hog)"
   ]
  },
  {
   "cell_type": "code",
   "execution_count": null,
   "id": "3563346c",
   "metadata": {},
   "outputs": [
    {
     "name": "stdout",
     "output_type": "stream",
     "text": [
      "1. Aglomerado 32: 75.97%\n",
      "2. Aglomerado 19: 68.10%\n",
      "3. Aglomerado 23: 64.68%\n",
      "4. Aglomerado 2: 61.68%\n",
      "5. Aglomerado 6: 60.73%\n"
     ]
    }
   ],
   "source": [
    "from src.util.modulos_seccion_b import ranking_aglomerados_hogares\n",
    "\n",
    "ranking = ranking_aglomerados_hogares(datos_hogar_act, datos_indiv_act)\n",
    "\n",
    "for i, (aglomerado, porcentaje) in enumerate(ranking.items(), start=1):\n",
    "    print(f\"{i}. Aglomerado {aglomerado}: {float(porcentaje):.2f}%\")"
   ]
  },
  {
   "cell_type": "markdown",
   "id": "2266847a",
   "metadata": {},
   "source": [
    "Se calcula el porcentaje de viviendas ocupadas por sus propietarios en cada aglomerado usando la función porcentaje_viviendas_propietarios, que pondera los datos con la columna PONDERA. El resultado muestra cómo se distribuye la tenencia de viviendas en cada aglomerado.\n"
   ]
  },
  {
   "cell_type": "code",
   "execution_count": 13,
   "id": "1cda6f8e",
   "metadata": {},
   "outputs": [
    {
     "name": "stdout",
     "output_type": "stream",
     "text": [
      "Porcentaje de viviendas ocupadas por sus propietarios por aglomerado:\n",
      "Aglomerado 7: 81.24%\n",
      "Aglomerado 32: 19.35%\n",
      "Aglomerado 2: 73.01%\n",
      "Aglomerado 14: 91.30%\n",
      "Aglomerado 15: 85.09%\n",
      "Aglomerado 5: 77.42%\n",
      "Aglomerado 27: 85.86%\n",
      "Aglomerado 18: 93.90%\n",
      "Aglomerado 26: 79.00%\n",
      "Aglomerado 20: 76.67%\n",
      "Aglomerado 29: 63.59%\n",
      "Aglomerado 33: 77.17%\n",
      "Aglomerado 8: 90.10%\n",
      "Aglomerado 23: 82.49%\n",
      "Aglomerado 91: 83.68%\n",
      "Aglomerado 3: 71.85%\n",
      "Aglomerado 4: 63.16%\n",
      "Aglomerado 31: 66.28%\n",
      "Aglomerado 34: 76.94%\n",
      "Aglomerado 12: 72.54%\n",
      "Aglomerado 30: 80.89%\n",
      "Aglomerado 38: 88.22%\n",
      "Aglomerado 17: 73.42%\n",
      "Aglomerado 19: 86.94%\n",
      "Aglomerado 36: 75.15%\n",
      "Aglomerado 93: 75.77%\n",
      "Aglomerado 13: 62.21%\n",
      "Aglomerado 22: 96.57%\n",
      "Aglomerado 9: 90.78%\n",
      "Aglomerado 10: 80.77%\n",
      "Aglomerado 25: 87.67%\n",
      "Aglomerado 6: 79.82%\n"
     ]
    }
   ],
   "source": [
    "from src.util.modulos_seccion_b import porcentaje_viviendas_propietarios\n",
    "\n",
    "# Calcular el porcentaje de viviendas ocupadas por sus propietarios para cada aglomerado\n",
    "porcentajes = porcentaje_viviendas_propietarios(datos_hogar_act)\n",
    "\n",
    "# Informar el resultado\n",
    "print(\"Porcentaje de viviendas ocupadas por sus propietarios por aglomerado:\")\n",
    "for aglomerado, porcentaje in porcentajes.items():\n",
    "    print(f\"Aglomerado {aglomerado}: {porcentaje:.2f}%\")"
   ]
  },
  {
   "cell_type": "code",
   "execution_count": null,
   "id": "e179bafa",
   "metadata": {},
   "outputs": [],
   "source": [
    "from src.util.modulos_seccion_b import porcentaje_material\n",
    "\n",
    "#Solicitamos A un Usuario Que Ingrese un año entre 2020-2025 {Pero solo descargamos 2023 asi que solo funciona 2023}\n",
    "años= input('Ingrese Un Año Entre 2020-2025')\n",
    "#invocamos el modulo porcentaje_material que se encuentra en src-util\n",
    "aux =  porcentaje_material(datos_hogar_act,años)"
   ]
  }
 ],
 "metadata": {
  "kernelspec": {
   "display_name": "Python 3",
   "language": "python",
   "name": "python3"
  },
  "language_info": {
   "codemirror_mode": {
    "name": "ipython",
    "version": 3
   },
   "file_extension": ".py",
   "mimetype": "text/x-python",
   "name": "python",
   "nbconvert_exporter": "python",
   "pygments_lexer": "ipython3",
   "version": "3.12.4"
  }
 },
 "nbformat": 4,
 "nbformat_minor": 5
}
